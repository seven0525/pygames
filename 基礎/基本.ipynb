{
 "cells": [
  {
   "cell_type": "markdown",
   "metadata": {},
   "source": [
    "# 画面を青く塗りつぶす"
   ]
  },
  {
   "cell_type": "code",
   "execution_count": 3,
   "metadata": {},
   "outputs": [
    {
     "ename": "SystemExit",
     "evalue": "",
     "output_type": "error",
     "traceback": [
      "An exception has occurred, use %tb to see the full traceback.\n",
      "\u001b[0;31mSystemExit\u001b[0m\n"
     ]
    },
    {
     "name": "stderr",
     "output_type": "stream",
     "text": [
      "/anaconda3/lib/python3.6/site-packages/IPython/core/interactiveshell.py:2918: UserWarning: To exit: use 'exit', 'quit', or Ctrl-D.\n",
      "  warn(\"To exit: use 'exit', 'quit', or Ctrl-D.\", stacklevel=1)\n"
     ]
    }
   ],
   "source": [
    "#!/usr/bin/env python\n",
    "# -*- coding: utf-8 -*-\n",
    "import pygame\n",
    "from pygame.locals import *\n",
    "import sys\n",
    " \n",
    "SCREEN_SIZE = (640, 480)  # 画面サイズ\n",
    " \n",
    "# Pygameを初期化\n",
    "pygame.init()\n",
    "# SCREEN_SIZEの画面を作成\n",
    "screen = pygame.display.set_mode(SCREEN_SIZE)\n",
    "# タイトルバーの文字列をセット\n",
    "pygame.display.set_caption(u\"ウィンドウの作成\")\n",
    " \n",
    "# ゲームループ\n",
    "while True:\n",
    "    screen.fill((0,0,255))   # 画面を青色で塗りつぶす\n",
    "    pygame.display.update()  # 画面を更新\n",
    "    # イベント処理\n",
    "    for event in pygame.event.get():\n",
    "        if event.type == QUIT:  # 終了イベント\n",
    "            sys.exit()"
   ]
  },
  {
   "cell_type": "code",
   "execution_count": 4,
   "metadata": {},
   "outputs": [],
   "source": [
    "exit"
   ]
  },
  {
   "cell_type": "markdown",
   "metadata": {},
   "source": [
    "# テキストを描画する"
   ]
  },
  {
   "cell_type": "code",
   "execution_count": 2,
   "metadata": {},
   "outputs": [
    {
     "name": "stdout",
     "output_type": "stream",
     "text": [
      "pygame 1.9.4\n",
      "Hello from the pygame community. https://www.pygame.org/contribute.html\n"
     ]
    },
    {
     "ename": "SystemExit",
     "evalue": "",
     "output_type": "error",
     "traceback": [
      "An exception has occurred, use %tb to see the full traceback.\n",
      "\u001b[0;31mSystemExit\u001b[0m\n"
     ]
    },
    {
     "name": "stderr",
     "output_type": "stream",
     "text": [
      "/anaconda3/lib/python3.6/site-packages/IPython/core/interactiveshell.py:2918: UserWarning: To exit: use 'exit', 'quit', or Ctrl-D.\n",
      "  warn(\"To exit: use 'exit', 'quit', or Ctrl-D.\", stacklevel=1)\n"
     ]
    }
   ],
   "source": [
    "#!/usr/bin/env python\n",
    "# -*- coding: utf-8 -*-\n",
    "import pygame\n",
    "from pygame.locals import *\n",
    "import sys\n",
    " \n",
    "SCREEN_SIZE = (640, 480)\n",
    " \n",
    "pygame.init()\n",
    "screen = pygame.display.set_mode(SCREEN_SIZE)\n",
    "pygame.display.set_caption(\"Hello, world!\")\n",
    " \n",
    "# フォントの作成\n",
    "sysfont = pygame.font.SysFont(None, 80)\n",
    "# テキストを描画したSurfaceを作成\n",
    "hello1 = sysfont.render(\"Hello, world!\", False, (0,0,0))\n",
    "hello2 = sysfont.render(\"Hello, world!\", True, (0,0,0))\n",
    "hello3 = sysfont.render(\"Hello, world!\", True, (255,0,0), (255,255,0))\n",
    " \n",
    "while True:\n",
    "    screen.fill((0,0,255))\n",
    "    \n",
    "    # テキストを描画する\n",
    "    screen.blit(hello1, (20,50))\n",
    "    screen.blit(hello2, (20,150))\n",
    "    screen.blit(hello3, (20,250))\n",
    "    \n",
    "    pygame.display.update()\n",
    "    \n",
    "    for event in pygame.event.get():\n",
    "        if event.type == QUIT:\n",
    "            sys.exit()"
   ]
  },
  {
   "cell_type": "code",
   "execution_count": 3,
   "metadata": {},
   "outputs": [],
   "source": [
    "exit"
   ]
  },
  {
   "cell_type": "markdown",
   "metadata": {},
   "source": [
    "# 図形の描画"
   ]
  },
  {
   "cell_type": "code",
   "execution_count": 1,
   "metadata": {},
   "outputs": [
    {
     "name": "stdout",
     "output_type": "stream",
     "text": [
      "pygame 1.9.4\n",
      "Hello from the pygame community. https://www.pygame.org/contribute.html\n"
     ]
    },
    {
     "ename": "SystemExit",
     "evalue": "",
     "output_type": "error",
     "traceback": [
      "An exception has occurred, use %tb to see the full traceback.\n",
      "\u001b[0;31mSystemExit\u001b[0m\n"
     ]
    },
    {
     "name": "stderr",
     "output_type": "stream",
     "text": [
      "/anaconda3/lib/python3.6/site-packages/IPython/core/interactiveshell.py:2918: UserWarning: To exit: use 'exit', 'quit', or Ctrl-D.\n",
      "  warn(\"To exit: use 'exit', 'quit', or Ctrl-D.\", stacklevel=1)\n"
     ]
    }
   ],
   "source": [
    "#!/usr/bin/env python\n",
    "# -*- coding: utf-8 -*-\n",
    "import pygame\n",
    "from pygame.locals import *\n",
    "import sys\n",
    " \n",
    "SCREEN_SIZE = (640, 480)\n",
    " \n",
    "pygame.init()\n",
    "screen = pygame.display.set_mode(SCREEN_SIZE)\n",
    "pygame.display.set_caption(u\"図形の描画\")\n",
    " \n",
    "while True:\n",
    "    screen.fill((0,0,0))\n",
    "    \n",
    "    # 図形を描画\n",
    "    # 黄の矩形\n",
    "    pygame.draw.rect(screen, (255,255,0), Rect(10,10,300,200))\n",
    "    # 赤の円\n",
    "    pygame.draw.circle(screen, (255,0,0), (320,240), 100)\n",
    "    # 紫の楕円\n",
    "    pygame.draw.ellipse(screen, (255,0,255), (400,300,200,100))\n",
    "    # 白い線\n",
    "    pygame.draw.line(screen, (255,255,255), (0,0), (640,480))\n",
    "    \n",
    "    pygame.display.update()\n",
    "    for event in pygame.event.get():\n",
    "        if event.type == QUIT:\n",
    "            sys.exit()"
   ]
  },
  {
   "cell_type": "code",
   "execution_count": 2,
   "metadata": {},
   "outputs": [],
   "source": [
    "exit"
   ]
  },
  {
   "cell_type": "markdown",
   "metadata": {},
   "source": [
    "# イメージを描画"
   ]
  },
  {
   "cell_type": "code",
   "execution_count": 5,
   "metadata": {},
   "outputs": [
    {
     "ename": "SystemExit",
     "evalue": "",
     "output_type": "error",
     "traceback": [
      "An exception has occurred, use %tb to see the full traceback.\n",
      "\u001b[0;31mSystemExit\u001b[0m\n"
     ]
    },
    {
     "name": "stderr",
     "output_type": "stream",
     "text": [
      "/anaconda3/lib/python3.6/site-packages/IPython/core/interactiveshell.py:2918: UserWarning: To exit: use 'exit', 'quit', or Ctrl-D.\n",
      "  warn(\"To exit: use 'exit', 'quit', or Ctrl-D.\", stacklevel=1)\n"
     ]
    }
   ],
   "source": [
    "#!/usr/bin/env python\n",
    "# -*- coding: utf-8 -*-\n",
    "import pygame\n",
    "from pygame.locals import *\n",
    "import sys\n",
    " \n",
    "SCREEN_SIZE = (640, 480)\n",
    " \n",
    "pygame.init()\n",
    "screen = pygame.display.set_mode(SCREEN_SIZE)\n",
    "pygame.display.set_caption(u\"イメージの描画\")\n",
    " \n",
    "# イメージを用意\n",
    "backImg = pygame.image.load(\"forest.jpg\").convert()        # 背景\n",
    "pythonImg = pygame.image.load(\"python.jpg\").convert_alpha()  # 蛇\n",
    " \n",
    "while True:\n",
    "    screen.blit(backImg, (0,0))        # 背景を描画\n",
    "    screen.blit(pythonImg, (400,400))  # 蛇を描画\n",
    "    pygame.display.update()\n",
    "    \n",
    "    for event in pygame.event.get():\n",
    "        if event.type == QUIT:\n",
    "            sys.exit()"
   ]
  },
  {
   "cell_type": "code",
   "execution_count": 6,
   "metadata": {},
   "outputs": [],
   "source": [
    "exit"
   ]
  },
  {
   "cell_type": "markdown",
   "metadata": {},
   "source": [
    "# マウスイベント"
   ]
  },
  {
   "cell_type": "code",
   "execution_count": 1,
   "metadata": {},
   "outputs": [
    {
     "name": "stdout",
     "output_type": "stream",
     "text": [
      "pygame 1.9.4\n",
      "Hello from the pygame community. https://www.pygame.org/contribute.html\n"
     ]
    },
    {
     "ename": "SystemExit",
     "evalue": "",
     "output_type": "error",
     "traceback": [
      "An exception has occurred, use %tb to see the full traceback.\n",
      "\u001b[0;31mSystemExit\u001b[0m\n"
     ]
    },
    {
     "name": "stderr",
     "output_type": "stream",
     "text": [
      "/anaconda3/lib/python3.6/site-packages/IPython/core/interactiveshell.py:2918: UserWarning: To exit: use 'exit', 'quit', or Ctrl-D.\n",
      "  warn(\"To exit: use 'exit', 'quit', or Ctrl-D.\", stacklevel=1)\n"
     ]
    }
   ],
   "source": [
    "#!/usr/bin/env python\n",
    "# -*- coding: utf-8 -*-\n",
    "import pygame\n",
    "from pygame.locals import *\n",
    "import sys\n",
    " \n",
    "SCREEN_SIZE = (640, 480)\n",
    " \n",
    "pygame.init()\n",
    "screen = pygame.display.set_mode(SCREEN_SIZE)\n",
    "pygame.display.set_caption(u\"マウスイベント\")\n",
    " \n",
    "backImg = pygame.image.load(\"moriyama.jpg\").convert()\n",
    "pythonImg = pygame.image.load(\"python.png\").convert_alpha()\n",
    " \n",
    "cur_pos = (0,0)    # 蛇の位置\n",
    "pythons_pos = []   # コピーした蛇の位置リスト\n",
    " \n",
    "while True:\n",
    "    screen.blit(backImg, (0,0))\n",
    "    \n",
    "    for event in pygame.event.get():\n",
    "        if event.type == QUIT:\n",
    "            sys.exit()\n",
    "        # マウスクリックで蛇をコピー\n",
    "        if event.type == MOUSEBUTTONDOWN and event.button == 1:\n",
    "            x, y = event.pos\n",
    "            x -= pythonImg.get_width() / 2\n",
    "            y -= pythonImg.get_height() / 2\n",
    "            pythons_pos.append((x,y))  # 蛇の位置を追加\n",
    "        # マウス移動で蛇を移動\n",
    "        if event.type == MOUSEMOTION:\n",
    "            x, y = event.pos\n",
    "            x -= pythonImg.get_width() / 2\n",
    "            y -= pythonImg.get_height() / 2\n",
    "            cur_pos = (x,y)\n",
    "    \n",
    "    # 蛇を表示\n",
    "    screen.blit(pythonImg, cur_pos)\n",
    "    for i, j in pythons_pos:\n",
    "        screen.blit(pythonImg, (i,j))\n",
    "    \n",
    "    pygame.display.update()"
   ]
  },
  {
   "cell_type": "code",
   "execution_count": 2,
   "metadata": {},
   "outputs": [],
   "source": [
    "exit"
   ]
  },
  {
   "cell_type": "markdown",
   "metadata": {},
   "source": [
    "# 画像の移動と跳ね返り処理"
   ]
  },
  {
   "cell_type": "code",
   "execution_count": 2,
   "metadata": {},
   "outputs": [
    {
     "name": "stdout",
     "output_type": "stream",
     "text": [
      "pygame 1.9.4\n",
      "Hello from the pygame community. https://www.pygame.org/contribute.html\n"
     ]
    },
    {
     "ename": "SystemExit",
     "evalue": "",
     "output_type": "error",
     "traceback": [
      "An exception has occurred, use %tb to see the full traceback.\n",
      "\u001b[0;31mSystemExit\u001b[0m\n"
     ]
    },
    {
     "name": "stderr",
     "output_type": "stream",
     "text": [
      "/anaconda3/lib/python3.6/site-packages/IPython/core/interactiveshell.py:2918: UserWarning: To exit: use 'exit', 'quit', or Ctrl-D.\n",
      "  warn(\"To exit: use 'exit', 'quit', or Ctrl-D.\", stacklevel=1)\n"
     ]
    }
   ],
   "source": [
    "#!/usr/bin/env python\n",
    "# -*- coding: utf-8 -*-\n",
    "import pygame\n",
    "from pygame.locals import *\n",
    "import sys\n",
    " \n",
    "SCR_WIDTH,SCR_HEIGHT = 640,480\n",
    " \n",
    "pygame.init()\n",
    "screen = pygame.display.set_mode((SCR_WIDTH,SCR_HEIGHT))\n",
    "pygame.display.set_caption(u\"画像の移動と跳ね返り処理\")\n",
    " \n",
    "img = pygame.image.load(\"python.png\").convert_alpha()\n",
    "img_rect = img.get_rect()\n",
    " \n",
    "vx = vy = 2  # 1フレームの移動ピクセル\n",
    "clock = pygame.time.Clock()\n",
    " \n",
    "while True:\n",
    "    clock.tick(60)  # 60fps\n",
    "    \n",
    "    # 画像の移動\n",
    "    img_rect.move_ip(vx, vy)\n",
    "    # 跳ね返り処理\n",
    "    if img_rect.left < 0 or img_rect.right > SCR_WIDTH:\n",
    "        vx = -vx\n",
    "    if img_rect.top < 0 or img_rect.bottom > SCR_HEIGHT:\n",
    "        vy = -vy\n",
    "    \n",
    "    screen.fill((0,0,255))\n",
    "    screen.blit(img, img_rect)\n",
    "    pygame.display.update()\n",
    "    \n",
    "    for event in pygame.event.get():\n",
    "        if event.type == QUIT: sys.exit()\n",
    "        if event.type == KEYDOWN and event.key == K_ESCAPE: sys.exit()"
   ]
  },
  {
   "cell_type": "code",
   "execution_count": 3,
   "metadata": {},
   "outputs": [],
   "source": [
    "exit"
   ]
  },
  {
   "cell_type": "markdown",
   "metadata": {},
   "source": [
    "# キー入力"
   ]
  },
  {
   "cell_type": "code",
   "execution_count": 2,
   "metadata": {},
   "outputs": [
    {
     "name": "stdout",
     "output_type": "stream",
     "text": [
      "pygame 1.9.4\n",
      "Hello from the pygame community. https://www.pygame.org/contribute.html\n"
     ]
    },
    {
     "ename": "SystemExit",
     "evalue": "",
     "output_type": "error",
     "traceback": [
      "An exception has occurred, use %tb to see the full traceback.\n",
      "\u001b[0;31mSystemExit\u001b[0m\n"
     ]
    },
    {
     "name": "stderr",
     "output_type": "stream",
     "text": [
      "/anaconda3/lib/python3.6/site-packages/IPython/core/interactiveshell.py:2918: UserWarning: To exit: use 'exit', 'quit', or Ctrl-D.\n",
      "  warn(\"To exit: use 'exit', 'quit', or Ctrl-D.\", stacklevel=1)\n"
     ]
    }
   ],
   "source": [
    "#!/usr/bin/env python\n",
    "# -*- coding: utf-8 -*-\n",
    "import pygame\n",
    "from pygame.locals import *\n",
    "import sys\n",
    " \n",
    "SCREEN_SIZE = (640, 480)\n",
    " \n",
    "pygame.init()\n",
    "screen = pygame.display.set_mode(SCREEN_SIZE)\n",
    "pygame.display.set_caption(u\"キーイベント\")\n",
    " \n",
    "img = pygame.image.load(\"python.png\").convert_alpha()\n",
    "img_rect = img.get_rect()\n",
    "img_rect.center = (320, 240)\n",
    " \n",
    "vx = vy = 10  # キーを押したときの移動距離\n",
    " \n",
    "while True:\n",
    "    screen.fill((0,0,255))\n",
    "    screen.blit(img, img_rect)\n",
    "    pygame.display.update()\n",
    "    \n",
    "    for event in pygame.event.get():\n",
    "        if event.type == QUIT: sys.exit()\n",
    "        if event.type == KEYDOWN:  # キーを押したとき\n",
    "            # ESCキーならスクリプトを終了\n",
    "            if event.key == K_ESCAPE:\n",
    "                sys.exit()\n",
    "            # 矢印キーなら画像を移動\n",
    "            if event.key == K_LEFT:\n",
    "                img_rect.move_ip(-vx, 0)\n",
    "            if event.key == K_RIGHT:\n",
    "                img_rect.move_ip(vx, 0)\n",
    "            if event.key == K_UP:\n",
    "                img_rect.move_ip(0, -vy)\n",
    "            if event.key == K_DOWN:\n",
    "                img_rect.move_ip(0, vy)"
   ]
  },
  {
   "cell_type": "code",
   "execution_count": 3,
   "metadata": {},
   "outputs": [],
   "source": [
    "exit"
   ]
  },
  {
   "cell_type": "code",
   "execution_count": 1,
   "metadata": {},
   "outputs": [
    {
     "name": "stdout",
     "output_type": "stream",
     "text": [
      "pygame 1.9.4\n",
      "Hello from the pygame community. https://www.pygame.org/contribute.html\n"
     ]
    },
    {
     "ename": "SystemExit",
     "evalue": "",
     "output_type": "error",
     "traceback": [
      "An exception has occurred, use %tb to see the full traceback.\n",
      "\u001b[0;31mSystemExit\u001b[0m\n"
     ]
    },
    {
     "name": "stderr",
     "output_type": "stream",
     "text": [
      "/anaconda3/lib/python3.6/site-packages/IPython/core/interactiveshell.py:2918: UserWarning: To exit: use 'exit', 'quit', or Ctrl-D.\n",
      "  warn(\"To exit: use 'exit', 'quit', or Ctrl-D.\", stacklevel=1)\n"
     ]
    }
   ],
   "source": [
    "#!/usr/bin/env python\n",
    "# -*- coding: utf-8 -*-\n",
    "import pygame\n",
    "from pygame.locals import *\n",
    "import sys\n",
    " \n",
    "SCREEN_SIZE = (640, 480)\n",
    " \n",
    "pygame.init()\n",
    "screen = pygame.display.set_mode(SCREEN_SIZE)\n",
    "pygame.display.set_caption(u\"キーイベント2\")\n",
    " \n",
    "img = pygame.image.load(\"python.png\").convert_alpha()\n",
    "img_rect = img.get_rect()\n",
    "img_rect.center = (320, 240)\n",
    " \n",
    "vx = vy = 10  # キーを押したときの移動距離\n",
    " \n",
    "while True:\n",
    "    # 押されているキーをチェック\n",
    "    pressed_keys = pygame.key.get_pressed()#押しっぱなしにも対応\n",
    "    # 押されているキーに応じて画像を移動\n",
    "    if pressed_keys[K_LEFT]:\n",
    "        img_rect.move_ip(-vx, 0)\n",
    "    if pressed_keys[K_RIGHT]:\n",
    "        img_rect.move_ip(vx, 0)\n",
    "    if pressed_keys[K_UP]:\n",
    "        img_rect.move_ip(0, -vy)\n",
    "    if pressed_keys[K_DOWN]:\n",
    "        img_rect.move_ip(0, vy)\n",
    "    \n",
    "    screen.fill((0,0,255))\n",
    "    screen.blit(img, img_rect)\n",
    "    pygame.display.update()\n",
    "    \n",
    "    for event in pygame.event.get():\n",
    "        if event.type == QUIT: sys.exit()\n",
    "        if event.type == KEYDOWN:  # キーを押したとき\n",
    "            # ESCキーならスクリプトを終了\n",
    "            if event.key == K_ESCAPE:\n",
    "                sys.exit()"
   ]
  },
  {
   "cell_type": "code",
   "execution_count": 2,
   "metadata": {},
   "outputs": [],
   "source": [
    "exit"
   ]
  },
  {
   "cell_type": "markdown",
   "metadata": {},
   "source": [
    "# 効果音、BGMを鳴らす\n",
    "Pygameでは、効果音用にwavとogg、 BGM用にmp3とoggをサポートしています。midiも鳴りましたがループ再生しないなど問題があるようです。midiはiTunesなどでmp3に変換してから使った方がよさそうです"
   ]
  },
  {
   "cell_type": "code",
   "execution_count": 2,
   "metadata": {},
   "outputs": [
    {
     "name": "stdout",
     "output_type": "stream",
     "text": [
      "pygame 1.9.4\n",
      "Hello from the pygame community. https://www.pygame.org/contribute.html\n"
     ]
    },
    {
     "ename": "SystemExit",
     "evalue": "",
     "output_type": "error",
     "traceback": [
      "An exception has occurred, use %tb to see the full traceback.\n",
      "\u001b[0;31mSystemExit\u001b[0m\n"
     ]
    },
    {
     "name": "stderr",
     "output_type": "stream",
     "text": [
      "/anaconda3/lib/python3.6/site-packages/IPython/core/interactiveshell.py:2918: UserWarning: To exit: use 'exit', 'quit', or Ctrl-D.\n",
      "  warn(\"To exit: use 'exit', 'quit', or Ctrl-D.\", stacklevel=1)\n"
     ]
    }
   ],
   "source": [
    "#!/usr/bin/env python\n",
    "# -*- coding: utf-8 -*-\n",
    "import pygame\n",
    "from pygame.locals import *\n",
    "import sys\n",
    " \n",
    "SCR_WIDTH,SCR_HEIGHT = 640,480\n",
    " \n",
    "pygame.init()\n",
    "screen = pygame.display.set_mode((SCR_WIDTH,SCR_HEIGHT))\n",
    "pygame.display.set_caption(u\"サウンドテスト\")\n",
    " \n",
    "# 画像をロード\n",
    "img = pygame.image.load(\"python.png\").convert_alpha()\n",
    "img_rect = img.get_rect()\n",
    " \n",
    "# サウンドをロード\n",
    "hit_sound = pygame.mixer.Sound(\"hit.wav\")\n",
    " \n",
    "vx = vy = 300  # 1秒間の移動ピクセル\n",
    "clock = pygame.time.Clock()\n",
    " \n",
    "# BGMを再生\n",
    "pygame.mixer.music.load(\"tam-n11.mp3\")\n",
    "pygame.mixer.music.play(-1)#ループ再生\n",
    " \n",
    "while True:\n",
    "    time_passed = clock.tick(60)\n",
    "    time_passed_seconds = time_passed / 1000.0\n",
    " \n",
    "    # 画像の移動\n",
    "    img_rect.x += vx * time_passed_seconds\n",
    "    img_rect.y += vy * time_passed_seconds\n",
    "    \n",
    "    # 壁にぶつかると跳ね返る\n",
    "    if img_rect.left < 0 or img_rect.right > SCR_WIDTH:\n",
    "        hit_sound.play()  # サウンドを再生\n",
    "        vx = -vx\n",
    "    if img_rect.top < 0 or img_rect.bottom > SCR_HEIGHT:\n",
    "        hit_sound.play()  # サウンドを再生\n",
    "        vy = -vy\n",
    "    \n",
    "    screen.fill((0,0,255))\n",
    "    screen.blit(img, img_rect)\n",
    "    pygame.display.update()\n",
    "    for event in pygame.event.get():\n",
    "        if event.type == QUIT: sys.exit()\n",
    "        if event.type == KEYDOWN and event.key == K_ESCAPE: sys.exit()"
   ]
  },
  {
   "cell_type": "code",
   "execution_count": 3,
   "metadata": {},
   "outputs": [],
   "source": [
    "exit"
   ]
  },
  {
   "cell_type": "code",
   "execution_count": 1,
   "metadata": {},
   "outputs": [],
   "source": [
    "#スプライトの実装"
   ]
  },
  {
   "cell_type": "code",
   "execution_count": 2,
   "metadata": {},
   "outputs": [
    {
     "ename": "SystemExit",
     "evalue": "",
     "output_type": "error",
     "traceback": [
      "An exception has occurred, use %tb to see the full traceback.\n",
      "\u001b[0;31mSystemExit\u001b[0m\n"
     ]
    },
    {
     "name": "stderr",
     "output_type": "stream",
     "text": [
      "/anaconda3/lib/python3.6/site-packages/IPython/core/interactiveshell.py:2918: UserWarning: To exit: use 'exit', 'quit', or Ctrl-D.\n",
      "  warn(\"To exit: use 'exit', 'quit', or Ctrl-D.\", stacklevel=1)\n"
     ]
    }
   ],
   "source": [
    "#!/usr/bin/env python\n",
    "# -*- coding: utf-8 -*-\n",
    "import pygame\n",
    "from pygame.locals import *\n",
    "import sys\n",
    " \n",
    "SCR_RECT = Rect(0, 0, 640, 480)\n",
    " \n",
    "class MySprite(pygame.sprite.Sprite):\n",
    "    def __init__(self, filename, x, y, vx, vy):\n",
    "        pygame.sprite.Sprite.__init__(self)\n",
    "        self.image = pygame.image.load(filename).convert_alpha()\n",
    "        width = self.image.get_width()\n",
    "        height = self.image.get_height()\n",
    "        self.rect = Rect(x, y, width, height)\n",
    "        self.vx = vx\n",
    "        self.vy = vy\n",
    "        \n",
    "    def update(self):\n",
    "        self.rect.move_ip(self.vx, self.vy)\n",
    "        # 壁にぶつかったら跳ね返る\n",
    "        if self.rect.left < 0 or self.rect.right > SCR_RECT.width:\n",
    "            self.vx = -self.vx\n",
    "        if self.rect.top < 0 or self.rect.bottom > SCR_RECT.height:\n",
    "            self.vy = -self.vy\n",
    "        # 画面からはみ出ないようにする\n",
    "        self.rect = self.rect.clamp(SCR_RECT)\n",
    "    \n",
    "    def draw(self, screen):\n",
    "        screen.blit(self.image, self.rect)\n",
    " \n",
    "def main():\n",
    "    pygame.init()\n",
    "    screen = pygame.display.set_mode(SCR_RECT.size)\n",
    "    pygame.display.set_caption(u\"スプライトの使い方\")\n",
    "    \n",
    "    # スプライトを作成\n",
    "    python1 = MySprite(\"python.png\", 0, 0, 2, 2)\n",
    "    python2 = MySprite(\"python.png\", 10, 10, 5, 5)\n",
    "    python3 = MySprite(\"python.png\", 320, 240, -2, 3)\n",
    "    \n",
    "    clock = pygame.time.Clock()\n",
    "    \n",
    "    while True:\n",
    "        clock.tick(60)  # 60fps\n",
    "        \n",
    "        screen.fill((0,0,255))\n",
    "        \n",
    "        # スプライトを更新\n",
    "        python1.update()\n",
    "        python2.update()\n",
    "        python3.update()\n",
    "        \n",
    "        # スプライトを描画\n",
    "        python1.draw(screen)\n",
    "        python2.draw(screen)\n",
    "        python3.draw(screen)\n",
    "        \n",
    "        pygame.display.update()\n",
    "        \n",
    "        for event in pygame.event.get():\n",
    "            if event.type == QUIT:\n",
    "                sys.exit()\n",
    " \n",
    "if __name__ == \"__main__\":\n",
    "    main()"
   ]
  },
  {
   "cell_type": "code",
   "execution_count": 3,
   "metadata": {},
   "outputs": [],
   "source": [
    "exit"
   ]
  },
  {
   "cell_type": "code",
   "execution_count": 1,
   "metadata": {},
   "outputs": [],
   "source": [
    "#スプライトグループの使い方"
   ]
  },
  {
   "cell_type": "code",
   "execution_count": 2,
   "metadata": {},
   "outputs": [
    {
     "name": "stdout",
     "output_type": "stream",
     "text": [
      "pygame 1.9.4\n",
      "Hello from the pygame community. https://www.pygame.org/contribute.html\n"
     ]
    },
    {
     "ename": "SystemExit",
     "evalue": "",
     "output_type": "error",
     "traceback": [
      "An exception has occurred, use %tb to see the full traceback.\n",
      "\u001b[0;31mSystemExit\u001b[0m\n"
     ]
    },
    {
     "name": "stderr",
     "output_type": "stream",
     "text": [
      "/anaconda3/lib/python3.6/site-packages/IPython/core/interactiveshell.py:2918: UserWarning: To exit: use 'exit', 'quit', or Ctrl-D.\n",
      "  warn(\"To exit: use 'exit', 'quit', or Ctrl-D.\", stacklevel=1)\n"
     ]
    }
   ],
   "source": [
    "#!/usr/bin/env python\n",
    "# -*- coding: utf-8 -*-\n",
    "import pygame\n",
    "from pygame.locals import *\n",
    "import sys\n",
    " \n",
    "SCR_RECT = Rect(0, 0, 640, 480)\n",
    " \n",
    "class MySprite(pygame.sprite.Sprite):\n",
    "    def __init__(self, filename, x, y, vx, vy):\n",
    "        pygame.sprite.Sprite.__init__(self)\n",
    "        self.image = pygame.image.load(filename).convert_alpha()\n",
    "        width = self.image.get_width()\n",
    "        height = self.image.get_height()\n",
    "        self.rect = Rect(x, y, width, height)\n",
    "        self.vx = vx\n",
    "        self.vy = vy\n",
    "        \n",
    "    def update(self):\n",
    "        self.rect.move_ip(self.vx, self.vy)\n",
    "        # 壁にぶつかったら跳ね返る\n",
    "        if self.rect.left < 0 or self.rect.right > SCR_RECT.width:\n",
    "            self.vx = -self.vx\n",
    "        if self.rect.top < 0 or self.rect.bottom > SCR_RECT.height:\n",
    "            self.vy = -self.vy\n",
    "        # 画面からはみ出ないようにする\n",
    "        self.rect = self.rect.clamp(SCR_RECT)\n",
    " \n",
    "def main():\n",
    "    pygame.init()\n",
    "    screen = pygame.display.set_mode(SCR_RECT.size)\n",
    "    pygame.display.set_caption(u\"スプライトグループの使い方\")\n",
    "    \n",
    "    # スプライトを作成\n",
    "    python1 = MySprite(\"python.png\", 0, 0, 2, 2)\n",
    "    python2 = MySprite(\"python.png\", 10, 10, 5, 5)\n",
    "    python3 = MySprite(\"python.png\", 320, 240, -2, 3)\n",
    "    \n",
    "    # スプライトグループを作成してスプライトを追加\n",
    "    group = pygame.sprite.RenderUpdates()\n",
    "    group.add(python1)\n",
    "    group.add(python2)\n",
    "    group.add(python3)\n",
    "    \n",
    "    clock = pygame.time.Clock()\n",
    "    \n",
    "    while True:\n",
    "        clock.tick(60)  # 60fps\n",
    "        screen.fill((0,0,255))\n",
    "        # スプライトグループを更新\n",
    "        group.update()\n",
    "        # スプライトグループを描画\n",
    "        group.draw(screen)\n",
    "        pygame.display.update()\n",
    "        for event in pygame.event.get():\n",
    "            if event.type == QUIT:\n",
    "                sys.exit()\n",
    " \n",
    "if __name__ == \"__main__\":\n",
    "    main()"
   ]
  },
  {
   "cell_type": "code",
   "execution_count": 3,
   "metadata": {},
   "outputs": [],
   "source": [
    "exit"
   ]
  },
  {
   "cell_type": "code",
   "execution_count": 1,
   "metadata": {},
   "outputs": [],
   "source": [
    "#キャラクターアニメーション"
   ]
  },
  {
   "cell_type": "code",
   "execution_count": 7,
   "metadata": {},
   "outputs": [
    {
     "name": "stdout",
     "output_type": "stream",
     "text": [
      "pygame 1.9.4\n",
      "Hello from the pygame community. https://www.pygame.org/contribute.html\n"
     ]
    },
    {
     "ename": "TypeError",
     "evalue": "list indices must be integers or slices, not float",
     "output_type": "error",
     "traceback": [
      "\u001b[0;31m---------------------------------------------------------------------------\u001b[0m",
      "\u001b[0;31mTypeError\u001b[0m                                 Traceback (most recent call last)",
      "\u001b[0;32m<ipython-input-7-912159516c72>\u001b[0m in \u001b[0;36m<module>\u001b[0;34m()\u001b[0m\n\u001b[1;32m     69\u001b[0m \u001b[0;34m\u001b[0m\u001b[0m\n\u001b[1;32m     70\u001b[0m \u001b[0;32mif\u001b[0m \u001b[0m__name__\u001b[0m \u001b[0;34m==\u001b[0m \u001b[0;34m\"__main__\"\u001b[0m\u001b[0;34m:\u001b[0m\u001b[0;34m\u001b[0m\u001b[0m\n\u001b[0;32m---> 71\u001b[0;31m     \u001b[0mmain\u001b[0m\u001b[0;34m(\u001b[0m\u001b[0;34m)\u001b[0m\u001b[0;34m\u001b[0m\u001b[0m\n\u001b[0m",
      "\u001b[0;32m<ipython-input-7-912159516c72>\u001b[0m in \u001b[0;36mmain\u001b[0;34m()\u001b[0m\n\u001b[1;32m     61\u001b[0m         \u001b[0mclock\u001b[0m\u001b[0;34m.\u001b[0m\u001b[0mtick\u001b[0m\u001b[0;34m(\u001b[0m\u001b[0;36m60\u001b[0m\u001b[0;34m)\u001b[0m\u001b[0;34m\u001b[0m\u001b[0m\n\u001b[1;32m     62\u001b[0m         \u001b[0mscreen\u001b[0m\u001b[0;34m.\u001b[0m\u001b[0mfill\u001b[0m\u001b[0;34m(\u001b[0m\u001b[0;34m(\u001b[0m\u001b[0;36m0\u001b[0m\u001b[0;34m,\u001b[0m\u001b[0;36m0\u001b[0m\u001b[0;34m,\u001b[0m\u001b[0;36m255\u001b[0m\u001b[0;34m)\u001b[0m\u001b[0;34m)\u001b[0m\u001b[0;34m\u001b[0m\u001b[0m\n\u001b[0;32m---> 63\u001b[0;31m         \u001b[0mall\u001b[0m\u001b[0;34m.\u001b[0m\u001b[0mupdate\u001b[0m\u001b[0;34m(\u001b[0m\u001b[0;34m)\u001b[0m\u001b[0;34m\u001b[0m\u001b[0m\n\u001b[0m\u001b[1;32m     64\u001b[0m         \u001b[0mall\u001b[0m\u001b[0;34m.\u001b[0m\u001b[0mdraw\u001b[0m\u001b[0;34m(\u001b[0m\u001b[0mscreen\u001b[0m\u001b[0;34m)\u001b[0m\u001b[0;34m\u001b[0m\u001b[0m\n\u001b[1;32m     65\u001b[0m         \u001b[0mpygame\u001b[0m\u001b[0;34m.\u001b[0m\u001b[0mdisplay\u001b[0m\u001b[0;34m.\u001b[0m\u001b[0mupdate\u001b[0m\u001b[0;34m(\u001b[0m\u001b[0;34m)\u001b[0m\u001b[0;34m\u001b[0m\u001b[0m\n",
      "\u001b[0;32m/anaconda3/lib/python3.6/site-packages/pygame/sprite.py\u001b[0m in \u001b[0;36mupdate\u001b[0;34m(self, *args)\u001b[0m\n\u001b[1;32m    460\u001b[0m         \"\"\"\n\u001b[1;32m    461\u001b[0m         \u001b[0;32mfor\u001b[0m \u001b[0ms\u001b[0m \u001b[0;32min\u001b[0m \u001b[0mself\u001b[0m\u001b[0;34m.\u001b[0m\u001b[0msprites\u001b[0m\u001b[0;34m(\u001b[0m\u001b[0;34m)\u001b[0m\u001b[0;34m:\u001b[0m\u001b[0;34m\u001b[0m\u001b[0m\n\u001b[0;32m--> 462\u001b[0;31m             \u001b[0ms\u001b[0m\u001b[0;34m.\u001b[0m\u001b[0mupdate\u001b[0m\u001b[0;34m(\u001b[0m\u001b[0;34m*\u001b[0m\u001b[0margs\u001b[0m\u001b[0;34m)\u001b[0m\u001b[0;34m\u001b[0m\u001b[0m\n\u001b[0m\u001b[1;32m    463\u001b[0m \u001b[0;34m\u001b[0m\u001b[0m\n\u001b[1;32m    464\u001b[0m     \u001b[0;32mdef\u001b[0m \u001b[0mdraw\u001b[0m\u001b[0;34m(\u001b[0m\u001b[0mself\u001b[0m\u001b[0;34m,\u001b[0m \u001b[0msurface\u001b[0m\u001b[0;34m)\u001b[0m\u001b[0;34m:\u001b[0m\u001b[0;34m\u001b[0m\u001b[0m\n",
      "\u001b[0;32m<ipython-input-7-912159516c72>\u001b[0m in \u001b[0;36mupdate\u001b[0;34m(self)\u001b[0m\n\u001b[1;32m     43\u001b[0m         \u001b[0;31m# キャラクターアニメーション\u001b[0m\u001b[0;34m\u001b[0m\u001b[0;34m\u001b[0m\u001b[0m\n\u001b[1;32m     44\u001b[0m         \u001b[0mself\u001b[0m\u001b[0;34m.\u001b[0m\u001b[0mframe\u001b[0m \u001b[0;34m+=\u001b[0m \u001b[0;36m1\u001b[0m\u001b[0;34m\u001b[0m\u001b[0m\n\u001b[0;32m---> 45\u001b[0;31m         \u001b[0mself\u001b[0m\u001b[0;34m.\u001b[0m\u001b[0mimage\u001b[0m \u001b[0;34m=\u001b[0m \u001b[0mself\u001b[0m\u001b[0;34m.\u001b[0m\u001b[0mimages\u001b[0m\u001b[0;34m[\u001b[0m\u001b[0mself\u001b[0m\u001b[0;34m.\u001b[0m\u001b[0mframe\u001b[0m\u001b[0;34m/\u001b[0m\u001b[0mself\u001b[0m\u001b[0;34m.\u001b[0m\u001b[0manimcycle\u001b[0m\u001b[0;34m%\u001b[0m\u001b[0;36m4\u001b[0m\u001b[0;34m]\u001b[0m\u001b[0;34m\u001b[0m\u001b[0m\n\u001b[0m\u001b[1;32m     46\u001b[0m \u001b[0;34m\u001b[0m\u001b[0m\n\u001b[1;32m     47\u001b[0m \u001b[0;32mdef\u001b[0m \u001b[0mmain\u001b[0m\u001b[0;34m(\u001b[0m\u001b[0;34m)\u001b[0m\u001b[0;34m:\u001b[0m\u001b[0;34m\u001b[0m\u001b[0m\n",
      "\u001b[0;31mTypeError\u001b[0m: list indices must be integers or slices, not float"
     ]
    }
   ],
   "source": [
    "#!/usr/bin/env python\n",
    "# -*- coding: utf-8 -*-\n",
    "import pygame\n",
    "from pygame.locals import *\n",
    "import sys\n",
    " \n",
    "SCR_RECT = Rect(0, 0, 640, 480)\n",
    " \n",
    "def load_image(filename, colorkey=None):\n",
    "    try:\n",
    "        image = pygame.image.load(filename)\n",
    "    except pygame.error as message:\n",
    "        print(\"Cannot load image:\", filename)\n",
    "        raise SystemExit(message)\n",
    "    image = image.convert()\n",
    "    if colorkey is not None:\n",
    "        if colorkey is -1:\n",
    "            colorkey = image.get_at((0,0))\n",
    "        image.set_colorkey(colorkey, RLEACCEL)\n",
    "    return image\n",
    " \n",
    "def split_image(image):\n",
    "    \"\"\"32x128のキャラクターイメージを32x32の4枚のイメージに分割\n",
    "    分割したイメージを格納したリストを返す\"\"\"\n",
    "    imageList = []\n",
    "    for i in range(0, 128, 32):\n",
    "        surface = pygame.Surface((32,32))\n",
    "        surface.blit(image, (0,0), (i,0,32,32))\n",
    "        surface.set_colorkey(surface.get_at((0,0)), RLEACCEL)\n",
    "        surface.convert()\n",
    "        imageList.append(surface)\n",
    "    return imageList\n",
    " \n",
    "class Character(pygame.sprite.Sprite):\n",
    "    animcycle = 12  # アニメーション速度\n",
    "    frame = 0\n",
    "    def __init__(self, filename, x, y):\n",
    "        pygame.sprite.Sprite.__init__(self, self.containers)\n",
    "        self.images = split_image(load_image(filename))\n",
    "        self.image = self.images[0]\n",
    "        self.rect = self.image.get_rect(topleft=(x,y))\n",
    "    def update(self):\n",
    "        # キャラクターアニメーション\n",
    "        self.frame += 1\n",
    "        self.image = self.images[self.frame/self.animcycle%4]\n",
    " \n",
    "def main():\n",
    "    pygame.init()\n",
    "    screen = pygame.display.set_mode(SCR_RECT.size)\n",
    "    pygame.display.set_caption(u\"キャラクターアニメーション\")\n",
    " \n",
    "    all = pygame.sprite.RenderUpdates()\n",
    "    Character.containers = all\n",
    "    \n",
    "    player = Character(\"player4.png\", 0, 0)\n",
    "    king = Character(\"king4.png\", 32, 0)\n",
    "    soldier = Character(\"soldier4.png\", 64, 0)\n",
    "    \n",
    "    clock = pygame.time.Clock()\n",
    "    while True:\n",
    "        clock.tick(60)\n",
    "        screen.fill((0,0,255))\n",
    "        all.update()\n",
    "        all.draw(screen)\n",
    "        pygame.display.update()\n",
    "        for event in pygame.event.get():\n",
    "            if event.type == QUIT:\n",
    "                sys.exit()\n",
    " \n",
    "if __name__ == \"__main__\":\n",
    "    main()"
   ]
  },
  {
   "cell_type": "code",
   "execution_count": 8,
   "metadata": {},
   "outputs": [],
   "source": [
    "exit"
   ]
  },
  {
   "cell_type": "markdown",
   "metadata": {},
   "source": [
    "# フルスクリーンモード"
   ]
  },
  {
   "cell_type": "code",
   "execution_count": 3,
   "metadata": {},
   "outputs": [
    {
     "name": "stdout",
     "output_type": "stream",
     "text": [
      "pygame 1.9.4\n",
      "Hello from the pygame community. https://www.pygame.org/contribute.html\n"
     ]
    },
    {
     "ename": "SystemExit",
     "evalue": "",
     "output_type": "error",
     "traceback": [
      "An exception has occurred, use %tb to see the full traceback.\n",
      "\u001b[0;31mSystemExit\u001b[0m\n"
     ]
    },
    {
     "name": "stderr",
     "output_type": "stream",
     "text": [
      "/anaconda3/lib/python3.6/site-packages/IPython/core/interactiveshell.py:2918: UserWarning: To exit: use 'exit', 'quit', or Ctrl-D.\n",
      "  warn(\"To exit: use 'exit', 'quit', or Ctrl-D.\", stacklevel=1)\n"
     ]
    }
   ],
   "source": [
    "#!/usr/bin/env python\n",
    "# -*- coding: utf-8 -*-\n",
    "import pygame\n",
    "from pygame.locals import *\n",
    "import sys\n",
    " \n",
    "SCR_RECT = Rect(0, 0, 1440, 900)\n",
    " \n",
    "class MySprite(pygame.sprite.Sprite):\n",
    "    def __init__(self, filename, x, y, vx, vy):\n",
    "        # デフォルトグループをセット\n",
    "        pygame.sprite.Sprite.__init__(self, self.containers)\n",
    "        self.image = pygame.image.load(filename).convert_alpha()\n",
    "        width = self.image.get_width()\n",
    "        height = self.image.get_height()\n",
    "        self.rect = Rect(x, y, width, height)\n",
    "        self.vx = vx\n",
    "        self.vy = vy\n",
    "        \n",
    "    def update(self):\n",
    "        self.rect.move_ip(self.vx, self.vy)\n",
    "        # 壁にぶつかったら跳ね返る\n",
    "        if self.rect.left < 0 or self.rect.right > SCR_RECT.width:\n",
    "            self.vx = -self.vx\n",
    "        if self.rect.top < 0 or self.rect.bottom > SCR_RECT.height:\n",
    "            self.vy = -self.vy\n",
    "        # 画面からはみ出ないようにする\n",
    "        self.rect = self.rect.clamp(SCR_RECT)\n",
    " \n",
    "def main():\n",
    "    pygame.init()\n",
    "    screen = pygame.display.set_mode(SCR_RECT.size)\n",
    "    pygame.display.set_caption(u\"フルスクリーンモード\")\n",
    "    # スプライトグループを作成してスプライトクラスに割り当て\n",
    "    group = pygame.sprite.RenderUpdates()\n",
    "    MySprite.containers = group\n",
    "    # スプライトを作成\n",
    "    python1 = MySprite(\"python.png\", 0, 0, 2, 2)\n",
    "    python2 = MySprite(\"python.png\", 10, 10, 5, 5)\n",
    "    python3 = MySprite(\"python.png\", 320, 240, -2, 3)\n",
    "    clock = pygame.time.Clock()\n",
    "    fullscreen_flag = False\n",
    "    while True:\n",
    "        clock.tick(60)  # 60fps\n",
    "        screen.fill((0,0,255))\n",
    "        # スプライトグループを更新\n",
    "        group.update()\n",
    "        # スプライトグループを描画\n",
    "        group.draw(screen)\n",
    "        pygame.display.update()\n",
    "        for event in pygame.event.get():\n",
    "            if event.type == QUIT:\n",
    "                pygame.quit()\n",
    "                sys.exit()\n",
    "            elif event.type == KEYDOWN and event.key == K_F2:\n",
    "                # F2キーでフルスクリーンモードへの切り替え\n",
    "                fullscreen_flag = not fullscreen_flag\n",
    "                if fullscreen_flag:\n",
    "                    screen = pygame.display.set_mode(SCR_RECT.size, FULLSCREEN, 32)#フルスクリーンにする。\n",
    "                else:\n",
    "                    screen = pygame.display.set_mode(SCR_RECT.size, 0, 32)\n",
    " \n",
    "if __name__ == \"__main__\":\n",
    "    main()"
   ]
  },
  {
   "cell_type": "code",
   "execution_count": 4,
   "metadata": {},
   "outputs": [],
   "source": [
    "exit"
   ]
  },
  {
   "cell_type": "code",
   "execution_count": 3,
   "metadata": {},
   "outputs": [],
   "source": [
    "#ファイアボール"
   ]
  },
  {
   "cell_type": "code",
   "execution_count": null,
   "metadata": {},
   "outputs": [],
   "source": [
    "#!/usr/bin/env python\n",
    "#coding:utf-8\n",
    "import pygame\n",
    "from pygame.locals import *\n",
    "import math\n",
    "import sys\n",
    "\n",
    "SCR_RECT = Rect(0, 0, 640, 480)\n",
    "START = (320, 240)  # ファイアボールの始点\n",
    "\n",
    "def main():\n",
    "    pygame.init()\n",
    "    screen = pygame.display.set_mode(SCR_RECT.size)\n",
    "    pygame.display.set_caption(u\"ファイアボール\")\n",
    "    \n",
    "    # スプライトグループ\n",
    "    all = pygame.sprite.RenderUpdates()\n",
    "    Fireball.containers = all\n",
    "    # スプライトの画像を登録\n",
    "    Fireball.image = load_image(\"fireball.png\")\n",
    "    \n",
    "    clock = pygame.time.Clock()\n",
    "    while True:\n",
    "        clock.tick(60)\n",
    "        screen.fill((0,0,0))\n",
    "        mouse_handler()\n",
    "        all.update()\n",
    "        all.draw(screen)\n",
    "        pygame.display.update()\n",
    "        for event in pygame.event.get():\n",
    "            if event.type == QUIT:\n",
    "                pygame.quit()\n",
    "                sys.exit()\n",
    "            elif event.type == KEYDOWN and event.key == K_ESCAPE:\n",
    "                pygame.quit()\n",
    "                sys.exit()\n",
    "\n",
    "def mouse_handler():\n",
    "    \"\"\"マウスイベントを検知してファイアボールを発射\"\"\"\n",
    "    mouse_pressed = pygame.mouse.get_pressed()\n",
    "    if mouse_pressed[0]:\n",
    "        x, y = pygame.mouse.get_pos()\n",
    "        Fireball(START, (x,y))\n",
    "\n",
    "class Fireball(pygame.sprite.Sprite):\n",
    "    \"\"\"ファイアボール\"\"\"\n",
    "    speed = 10\n",
    "    def __init__(self, start, target):\n",
    "        pygame.sprite.Sprite.__init__(self, self.containers)\n",
    "        self.rect = self.image.get_rect()\n",
    "        # 始点と終点をセット\n",
    "        self.start = start\n",
    "        self.target = target\n",
    "        self.rect.center = self.start\n",
    "        # 終点の角度を計算\n",
    "        self.direction = math.atan2(target[1]-start[1], target[0]-start[0])\n",
    "        # 速度を計算\n",
    "        self.vx = math.cos(self.direction) * self.speed\n",
    "        self.vy = math.sin(self.direction) * self.speed\n",
    "    def update(self):\n",
    "        self.rect.move_ip(self.vx, self.vy)\n",
    "        # 画面外に出たらオブジェクトを破棄\n",
    "        if not SCR_RECT.contains(self.rect):\n",
    "            self.kill()\n",
    "\n",
    "def load_image(filename, colorkey=None):\n",
    "    try:\n",
    "        image = pygame.image.load(filename)\n",
    "    except pygame.error as message:\n",
    "        print(\"Cannot load image:\", filename)\n",
    "        raise SystemExit(message)\n",
    "    image = image.convert()\n",
    "    if colorkey is not None:\n",
    "        if colorkey is -1:\n",
    "            colorkey = image.get_at((0,0))\n",
    "        image.set_colorkey(colorkey, RLEACCEL)\n",
    "    return image\n",
    "\n",
    "if __name__ == \"__main__\":\n",
    "    main()"
   ]
  },
  {
   "cell_type": "code",
   "execution_count": null,
   "metadata": {},
   "outputs": [],
   "source": []
  },
  {
   "cell_type": "code",
   "execution_count": 4,
   "metadata": {},
   "outputs": [],
   "source": [
    "#フォントファイルのロード"
   ]
  },
  {
   "cell_type": "code",
   "execution_count": 1,
   "metadata": {},
   "outputs": [
    {
     "name": "stdout",
     "output_type": "stream",
     "text": [
      "pygame 1.9.4\n",
      "Hello from the pygame community. https://www.pygame.org/contribute.html\n"
     ]
    },
    {
     "ename": "SystemExit",
     "evalue": "",
     "output_type": "error",
     "traceback": [
      "An exception has occurred, use %tb to see the full traceback.\n",
      "\u001b[0;31mSystemExit\u001b[0m\n"
     ]
    },
    {
     "name": "stderr",
     "output_type": "stream",
     "text": [
      "/anaconda3/lib/python3.6/site-packages/IPython/core/interactiveshell.py:2918: UserWarning: To exit: use 'exit', 'quit', or Ctrl-D.\n",
      "  warn(\"To exit: use 'exit', 'quit', or Ctrl-D.\", stacklevel=1)\n"
     ]
    }
   ],
   "source": [
    "#!/usr/bin/env python\n",
    "#coding: utf-8\n",
    "import pygame\n",
    "from pygame.locals import *\n",
    "import sys\n",
    " \n",
    "SCREEN_SIZE = (640, 480)\n",
    " \n",
    "pygame.init()\n",
    "screen = pygame.display.set_mode(SCREEN_SIZE)\n",
    "pygame.display.set_caption(u\"フォントファイルのロード\")\n",
    " \n",
    "# フォントの作成\n",
    "myfont = pygame.font.Font(\"ipag.ttf\", 80)\n",
    " \n",
    "# テキストを描画したSurfaceを作成\n",
    "hello1 = myfont.render(u\"こんにちは！\", False, (0,0,0))\n",
    "hello2 = myfont.render(u\"こんにちは！\", True, (0,0,0))\n",
    "hello3 = myfont.render(u\"こんにちは！\", True, (255,0,0), (255,255,0))\n",
    " \n",
    "while True:\n",
    "    screen.fill((0,0,255))\n",
    "    \n",
    "    # テキストを描画する\n",
    "    screen.blit(hello1, (20,50))\n",
    "    screen.blit(hello2, (20,150))\n",
    "    screen.blit(hello3, (20,250))\n",
    "    \n",
    "    pygame.display.update()\n",
    "    \n",
    "    for event in pygame.event.get():\n",
    "        if event.type == QUIT:\n",
    "            pygame.quit()\n",
    "            sys.exit()"
   ]
  },
  {
   "cell_type": "code",
   "execution_count": 2,
   "metadata": {},
   "outputs": [],
   "source": [
    "exit"
   ]
  },
  {
   "cell_type": "code",
   "execution_count": null,
   "metadata": {},
   "outputs": [],
   "source": []
  }
 ],
 "metadata": {
  "kernelspec": {
   "display_name": "Python 3",
   "language": "python",
   "name": "python3"
  },
  "language_info": {
   "codemirror_mode": {
    "name": "ipython",
    "version": 3
   },
   "file_extension": ".py",
   "mimetype": "text/x-python",
   "name": "python",
   "nbconvert_exporter": "python",
   "pygments_lexer": "ipython3",
   "version": "3.6.4"
  }
 },
 "nbformat": 4,
 "nbformat_minor": 2
}
